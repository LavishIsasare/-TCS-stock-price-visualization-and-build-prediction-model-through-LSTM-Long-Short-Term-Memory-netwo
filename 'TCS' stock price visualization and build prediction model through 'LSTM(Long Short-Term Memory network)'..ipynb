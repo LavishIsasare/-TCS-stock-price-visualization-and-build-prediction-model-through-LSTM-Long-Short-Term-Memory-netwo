{
 "cells": [
  {
   "cell_type": "markdown",
   "metadata": {},
   "source": [
    "#### Task given by: Finacular Organization"
   ]
  },
  {
   "cell_type": "markdown",
   "metadata": {},
   "source": [
    "#### Performer and Submitted : Lavish Isasare"
   ]
  },
  {
   "cell_type": "markdown",
   "metadata": {},
   "source": [
    "#### Import all the required libraries."
   ]
  },
  {
   "cell_type": "code",
   "execution_count": 1,
   "metadata": {},
   "outputs": [],
   "source": [
    "import investpy\n",
    "import pandas as pd\n",
    "import numpy as np\n",
    "import matplotlib.pyplot as plt\n",
    "import seaborn as sns"
   ]
  },
  {
   "cell_type": "markdown",
   "metadata": {},
   "source": [
    "#### Import dataset by using investpy  module."
   ]
  },
  {
   "cell_type": "code",
   "execution_count": 2,
   "metadata": {
    "scrolled": true
   },
   "outputs": [
    {
     "data": {
      "text/html": [
       "<div>\n",
       "<style scoped>\n",
       "    .dataframe tbody tr th:only-of-type {\n",
       "        vertical-align: middle;\n",
       "    }\n",
       "\n",
       "    .dataframe tbody tr th {\n",
       "        vertical-align: top;\n",
       "    }\n",
       "\n",
       "    .dataframe thead th {\n",
       "        text-align: right;\n",
       "    }\n",
       "</style>\n",
       "<table border=\"1\" class=\"dataframe\">\n",
       "  <thead>\n",
       "    <tr style=\"text-align: right;\">\n",
       "      <th></th>\n",
       "      <th>Open</th>\n",
       "      <th>High</th>\n",
       "      <th>Low</th>\n",
       "      <th>Close</th>\n",
       "      <th>Volume</th>\n",
       "      <th>Currency</th>\n",
       "    </tr>\n",
       "    <tr>\n",
       "      <th>Date</th>\n",
       "      <th></th>\n",
       "      <th></th>\n",
       "      <th></th>\n",
       "      <th></th>\n",
       "      <th></th>\n",
       "      <th></th>\n",
       "    </tr>\n",
       "  </thead>\n",
       "  <tbody>\n",
       "    <tr>\n",
       "      <th>2010-01-04</th>\n",
       "      <td>364.34</td>\n",
       "      <td>366.32</td>\n",
       "      <td>361.57</td>\n",
       "      <td>362.82</td>\n",
       "      <td>1963682</td>\n",
       "      <td>INR</td>\n",
       "    </tr>\n",
       "    <tr>\n",
       "      <th>2010-01-05</th>\n",
       "      <td>364.44</td>\n",
       "      <td>366.64</td>\n",
       "      <td>360.36</td>\n",
       "      <td>362.92</td>\n",
       "      <td>2014488</td>\n",
       "      <td>INR</td>\n",
       "    </tr>\n",
       "    <tr>\n",
       "      <th>2010-01-06</th>\n",
       "      <td>362.92</td>\n",
       "      <td>363.09</td>\n",
       "      <td>353.82</td>\n",
       "      <td>354.71</td>\n",
       "      <td>3349176</td>\n",
       "      <td>INR</td>\n",
       "    </tr>\n",
       "    <tr>\n",
       "      <th>2010-01-07</th>\n",
       "      <td>355.03</td>\n",
       "      <td>356.91</td>\n",
       "      <td>343.20</td>\n",
       "      <td>344.84</td>\n",
       "      <td>6474892</td>\n",
       "      <td>INR</td>\n",
       "    </tr>\n",
       "    <tr>\n",
       "      <th>2010-01-08</th>\n",
       "      <td>345.61</td>\n",
       "      <td>346.82</td>\n",
       "      <td>336.20</td>\n",
       "      <td>337.79</td>\n",
       "      <td>6048178</td>\n",
       "      <td>INR</td>\n",
       "    </tr>\n",
       "    <tr>\n",
       "      <th>...</th>\n",
       "      <td>...</td>\n",
       "      <td>...</td>\n",
       "      <td>...</td>\n",
       "      <td>...</td>\n",
       "      <td>...</td>\n",
       "      <td>...</td>\n",
       "    </tr>\n",
       "    <tr>\n",
       "      <th>2020-12-24</th>\n",
       "      <td>2909.00</td>\n",
       "      <td>2921.35</td>\n",
       "      <td>2883.20</td>\n",
       "      <td>2909.35</td>\n",
       "      <td>1807144</td>\n",
       "      <td>INR</td>\n",
       "    </tr>\n",
       "    <tr>\n",
       "      <th>2020-12-28</th>\n",
       "      <td>2910.00</td>\n",
       "      <td>2949.70</td>\n",
       "      <td>2902.00</td>\n",
       "      <td>2929.40</td>\n",
       "      <td>2108994</td>\n",
       "      <td>INR</td>\n",
       "    </tr>\n",
       "    <tr>\n",
       "      <th>2020-12-29</th>\n",
       "      <td>2920.00</td>\n",
       "      <td>2952.00</td>\n",
       "      <td>2920.00</td>\n",
       "      <td>2930.50</td>\n",
       "      <td>1994151</td>\n",
       "      <td>INR</td>\n",
       "    </tr>\n",
       "    <tr>\n",
       "      <th>2020-12-30</th>\n",
       "      <td>2934.40</td>\n",
       "      <td>2947.70</td>\n",
       "      <td>2902.00</td>\n",
       "      <td>2909.30</td>\n",
       "      <td>2637968</td>\n",
       "      <td>INR</td>\n",
       "    </tr>\n",
       "    <tr>\n",
       "      <th>2020-12-31</th>\n",
       "      <td>2900.00</td>\n",
       "      <td>2905.00</td>\n",
       "      <td>2845.00</td>\n",
       "      <td>2862.75</td>\n",
       "      <td>4040956</td>\n",
       "      <td>INR</td>\n",
       "    </tr>\n",
       "  </tbody>\n",
       "</table>\n",
       "<p>2729 rows × 6 columns</p>\n",
       "</div>"
      ],
      "text/plain": [
       "               Open     High      Low    Close   Volume Currency\n",
       "Date                                                            \n",
       "2010-01-04   364.34   366.32   361.57   362.82  1963682      INR\n",
       "2010-01-05   364.44   366.64   360.36   362.92  2014488      INR\n",
       "2010-01-06   362.92   363.09   353.82   354.71  3349176      INR\n",
       "2010-01-07   355.03   356.91   343.20   344.84  6474892      INR\n",
       "2010-01-08   345.61   346.82   336.20   337.79  6048178      INR\n",
       "...             ...      ...      ...      ...      ...      ...\n",
       "2020-12-24  2909.00  2921.35  2883.20  2909.35  1807144      INR\n",
       "2020-12-28  2910.00  2949.70  2902.00  2929.40  2108994      INR\n",
       "2020-12-29  2920.00  2952.00  2920.00  2930.50  1994151      INR\n",
       "2020-12-30  2934.40  2947.70  2902.00  2909.30  2637968      INR\n",
       "2020-12-31  2900.00  2905.00  2845.00  2862.75  4040956      INR\n",
       "\n",
       "[2729 rows x 6 columns]"
      ]
     },
     "execution_count": 2,
     "metadata": {},
     "output_type": "execute_result"
    }
   ],
   "source": [
    "df = investpy.get_stock_historical_data(stock = 'TCS',\n",
    "                                        country = 'India',\n",
    "                                        from_date = '01/01/2010',\n",
    "                                        to_date = '31/12/2020', order = 'ascending')\n",
    "df"
   ]
  },
  {
   "cell_type": "markdown",
   "metadata": {},
   "source": [
    "#### Convert it into DataFrame."
   ]
  },
  {
   "cell_type": "code",
   "execution_count": 3,
   "metadata": {},
   "outputs": [
    {
     "data": {
      "text/html": [
       "<div>\n",
       "<style scoped>\n",
       "    .dataframe tbody tr th:only-of-type {\n",
       "        vertical-align: middle;\n",
       "    }\n",
       "\n",
       "    .dataframe tbody tr th {\n",
       "        vertical-align: top;\n",
       "    }\n",
       "\n",
       "    .dataframe thead th {\n",
       "        text-align: right;\n",
       "    }\n",
       "</style>\n",
       "<table border=\"1\" class=\"dataframe\">\n",
       "  <thead>\n",
       "    <tr style=\"text-align: right;\">\n",
       "      <th></th>\n",
       "      <th>Open</th>\n",
       "      <th>High</th>\n",
       "      <th>Low</th>\n",
       "      <th>Close</th>\n",
       "      <th>Volume</th>\n",
       "      <th>Currency</th>\n",
       "    </tr>\n",
       "    <tr>\n",
       "      <th>Date</th>\n",
       "      <th></th>\n",
       "      <th></th>\n",
       "      <th></th>\n",
       "      <th></th>\n",
       "      <th></th>\n",
       "      <th></th>\n",
       "    </tr>\n",
       "  </thead>\n",
       "  <tbody>\n",
       "    <tr>\n",
       "      <th>2010-01-04</th>\n",
       "      <td>364.34</td>\n",
       "      <td>366.32</td>\n",
       "      <td>361.57</td>\n",
       "      <td>362.82</td>\n",
       "      <td>1963682</td>\n",
       "      <td>INR</td>\n",
       "    </tr>\n",
       "    <tr>\n",
       "      <th>2010-01-05</th>\n",
       "      <td>364.44</td>\n",
       "      <td>366.64</td>\n",
       "      <td>360.36</td>\n",
       "      <td>362.92</td>\n",
       "      <td>2014488</td>\n",
       "      <td>INR</td>\n",
       "    </tr>\n",
       "    <tr>\n",
       "      <th>2010-01-06</th>\n",
       "      <td>362.92</td>\n",
       "      <td>363.09</td>\n",
       "      <td>353.82</td>\n",
       "      <td>354.71</td>\n",
       "      <td>3349176</td>\n",
       "      <td>INR</td>\n",
       "    </tr>\n",
       "    <tr>\n",
       "      <th>2010-01-07</th>\n",
       "      <td>355.03</td>\n",
       "      <td>356.91</td>\n",
       "      <td>343.20</td>\n",
       "      <td>344.84</td>\n",
       "      <td>6474892</td>\n",
       "      <td>INR</td>\n",
       "    </tr>\n",
       "    <tr>\n",
       "      <th>2010-01-08</th>\n",
       "      <td>345.61</td>\n",
       "      <td>346.82</td>\n",
       "      <td>336.20</td>\n",
       "      <td>337.79</td>\n",
       "      <td>6048178</td>\n",
       "      <td>INR</td>\n",
       "    </tr>\n",
       "    <tr>\n",
       "      <th>...</th>\n",
       "      <td>...</td>\n",
       "      <td>...</td>\n",
       "      <td>...</td>\n",
       "      <td>...</td>\n",
       "      <td>...</td>\n",
       "      <td>...</td>\n",
       "    </tr>\n",
       "    <tr>\n",
       "      <th>2020-12-24</th>\n",
       "      <td>2909.00</td>\n",
       "      <td>2921.35</td>\n",
       "      <td>2883.20</td>\n",
       "      <td>2909.35</td>\n",
       "      <td>1807144</td>\n",
       "      <td>INR</td>\n",
       "    </tr>\n",
       "    <tr>\n",
       "      <th>2020-12-28</th>\n",
       "      <td>2910.00</td>\n",
       "      <td>2949.70</td>\n",
       "      <td>2902.00</td>\n",
       "      <td>2929.40</td>\n",
       "      <td>2108994</td>\n",
       "      <td>INR</td>\n",
       "    </tr>\n",
       "    <tr>\n",
       "      <th>2020-12-29</th>\n",
       "      <td>2920.00</td>\n",
       "      <td>2952.00</td>\n",
       "      <td>2920.00</td>\n",
       "      <td>2930.50</td>\n",
       "      <td>1994151</td>\n",
       "      <td>INR</td>\n",
       "    </tr>\n",
       "    <tr>\n",
       "      <th>2020-12-30</th>\n",
       "      <td>2934.40</td>\n",
       "      <td>2947.70</td>\n",
       "      <td>2902.00</td>\n",
       "      <td>2909.30</td>\n",
       "      <td>2637968</td>\n",
       "      <td>INR</td>\n",
       "    </tr>\n",
       "    <tr>\n",
       "      <th>2020-12-31</th>\n",
       "      <td>2900.00</td>\n",
       "      <td>2905.00</td>\n",
       "      <td>2845.00</td>\n",
       "      <td>2862.75</td>\n",
       "      <td>4040956</td>\n",
       "      <td>INR</td>\n",
       "    </tr>\n",
       "  </tbody>\n",
       "</table>\n",
       "<p>2729 rows × 6 columns</p>\n",
       "</div>"
      ],
      "text/plain": [
       "               Open     High      Low    Close   Volume Currency\n",
       "Date                                                            \n",
       "2010-01-04   364.34   366.32   361.57   362.82  1963682      INR\n",
       "2010-01-05   364.44   366.64   360.36   362.92  2014488      INR\n",
       "2010-01-06   362.92   363.09   353.82   354.71  3349176      INR\n",
       "2010-01-07   355.03   356.91   343.20   344.84  6474892      INR\n",
       "2010-01-08   345.61   346.82   336.20   337.79  6048178      INR\n",
       "...             ...      ...      ...      ...      ...      ...\n",
       "2020-12-24  2909.00  2921.35  2883.20  2909.35  1807144      INR\n",
       "2020-12-28  2910.00  2949.70  2902.00  2929.40  2108994      INR\n",
       "2020-12-29  2920.00  2952.00  2920.00  2930.50  1994151      INR\n",
       "2020-12-30  2934.40  2947.70  2902.00  2909.30  2637968      INR\n",
       "2020-12-31  2900.00  2905.00  2845.00  2862.75  4040956      INR\n",
       "\n",
       "[2729 rows x 6 columns]"
      ]
     },
     "execution_count": 3,
     "metadata": {},
     "output_type": "execute_result"
    }
   ],
   "source": [
    "df = pd.DataFrame(df)\n",
    "df"
   ]
  },
  {
   "cell_type": "markdown",
   "metadata": {},
   "source": [
    "***We don't need  open, High, Low, Volume, Currency columns, So you can drop it.***"
   ]
  },
  {
   "cell_type": "code",
   "execution_count": 4,
   "metadata": {
    "scrolled": true
   },
   "outputs": [
    {
     "data": {
      "text/html": [
       "<div>\n",
       "<style scoped>\n",
       "    .dataframe tbody tr th:only-of-type {\n",
       "        vertical-align: middle;\n",
       "    }\n",
       "\n",
       "    .dataframe tbody tr th {\n",
       "        vertical-align: top;\n",
       "    }\n",
       "\n",
       "    .dataframe thead th {\n",
       "        text-align: right;\n",
       "    }\n",
       "</style>\n",
       "<table border=\"1\" class=\"dataframe\">\n",
       "  <thead>\n",
       "    <tr style=\"text-align: right;\">\n",
       "      <th></th>\n",
       "      <th>Close</th>\n",
       "    </tr>\n",
       "    <tr>\n",
       "      <th>Date</th>\n",
       "      <th></th>\n",
       "    </tr>\n",
       "  </thead>\n",
       "  <tbody>\n",
       "    <tr>\n",
       "      <th>2010-01-04</th>\n",
       "      <td>362.82</td>\n",
       "    </tr>\n",
       "    <tr>\n",
       "      <th>2010-01-05</th>\n",
       "      <td>362.92</td>\n",
       "    </tr>\n",
       "    <tr>\n",
       "      <th>2010-01-06</th>\n",
       "      <td>354.71</td>\n",
       "    </tr>\n",
       "    <tr>\n",
       "      <th>2010-01-07</th>\n",
       "      <td>344.84</td>\n",
       "    </tr>\n",
       "    <tr>\n",
       "      <th>2010-01-08</th>\n",
       "      <td>337.79</td>\n",
       "    </tr>\n",
       "    <tr>\n",
       "      <th>...</th>\n",
       "      <td>...</td>\n",
       "    </tr>\n",
       "    <tr>\n",
       "      <th>2020-12-24</th>\n",
       "      <td>2909.35</td>\n",
       "    </tr>\n",
       "    <tr>\n",
       "      <th>2020-12-28</th>\n",
       "      <td>2929.40</td>\n",
       "    </tr>\n",
       "    <tr>\n",
       "      <th>2020-12-29</th>\n",
       "      <td>2930.50</td>\n",
       "    </tr>\n",
       "    <tr>\n",
       "      <th>2020-12-30</th>\n",
       "      <td>2909.30</td>\n",
       "    </tr>\n",
       "    <tr>\n",
       "      <th>2020-12-31</th>\n",
       "      <td>2862.75</td>\n",
       "    </tr>\n",
       "  </tbody>\n",
       "</table>\n",
       "<p>2729 rows × 1 columns</p>\n",
       "</div>"
      ],
      "text/plain": [
       "              Close\n",
       "Date               \n",
       "2010-01-04   362.82\n",
       "2010-01-05   362.92\n",
       "2010-01-06   354.71\n",
       "2010-01-07   344.84\n",
       "2010-01-08   337.79\n",
       "...             ...\n",
       "2020-12-24  2909.35\n",
       "2020-12-28  2929.40\n",
       "2020-12-29  2930.50\n",
       "2020-12-30  2909.30\n",
       "2020-12-31  2862.75\n",
       "\n",
       "[2729 rows x 1 columns]"
      ]
     },
     "execution_count": 4,
     "metadata": {},
     "output_type": "execute_result"
    }
   ],
   "source": [
    "df1 = df.drop(['Open','High','Low','Volume','Currency'], axis = 1)\n",
    "df1"
   ]
  },
  {
   "cell_type": "markdown",
   "metadata": {},
   "source": [
    "#### Check and sort the values of dataset. In mhich, we need only  values of 'Close' column. and also you can filter the column with respect to the 'datetime'."
   ]
  },
  {
   "cell_type": "code",
   "execution_count": 5,
   "metadata": {},
   "outputs": [
    {
     "data": {
      "text/html": [
       "<div>\n",
       "<style scoped>\n",
       "    .dataframe tbody tr th:only-of-type {\n",
       "        vertical-align: middle;\n",
       "    }\n",
       "\n",
       "    .dataframe tbody tr th {\n",
       "        vertical-align: top;\n",
       "    }\n",
       "\n",
       "    .dataframe thead th {\n",
       "        text-align: right;\n",
       "    }\n",
       "</style>\n",
       "<table border=\"1\" class=\"dataframe\">\n",
       "  <thead>\n",
       "    <tr style=\"text-align: right;\">\n",
       "      <th></th>\n",
       "      <th>Close</th>\n",
       "    </tr>\n",
       "    <tr>\n",
       "      <th>Date</th>\n",
       "      <th></th>\n",
       "    </tr>\n",
       "  </thead>\n",
       "  <tbody>\n",
       "    <tr>\n",
       "      <th>2010-01-04</th>\n",
       "      <td>362.82</td>\n",
       "    </tr>\n",
       "    <tr>\n",
       "      <th>2010-01-05</th>\n",
       "      <td>362.92</td>\n",
       "    </tr>\n",
       "    <tr>\n",
       "      <th>2010-01-06</th>\n",
       "      <td>354.71</td>\n",
       "    </tr>\n",
       "    <tr>\n",
       "      <th>2010-01-07</th>\n",
       "      <td>344.84</td>\n",
       "    </tr>\n",
       "    <tr>\n",
       "      <th>2010-01-08</th>\n",
       "      <td>337.79</td>\n",
       "    </tr>\n",
       "    <tr>\n",
       "      <th>...</th>\n",
       "      <td>...</td>\n",
       "    </tr>\n",
       "    <tr>\n",
       "      <th>2020-12-24</th>\n",
       "      <td>2909.35</td>\n",
       "    </tr>\n",
       "    <tr>\n",
       "      <th>2020-12-28</th>\n",
       "      <td>2929.40</td>\n",
       "    </tr>\n",
       "    <tr>\n",
       "      <th>2020-12-29</th>\n",
       "      <td>2930.50</td>\n",
       "    </tr>\n",
       "    <tr>\n",
       "      <th>2020-12-30</th>\n",
       "      <td>2909.30</td>\n",
       "    </tr>\n",
       "    <tr>\n",
       "      <th>2020-12-31</th>\n",
       "      <td>2862.75</td>\n",
       "    </tr>\n",
       "  </tbody>\n",
       "</table>\n",
       "<p>2729 rows × 1 columns</p>\n",
       "</div>"
      ],
      "text/plain": [
       "              Close\n",
       "Date               \n",
       "2010-01-04   362.82\n",
       "2010-01-05   362.92\n",
       "2010-01-06   354.71\n",
       "2010-01-07   344.84\n",
       "2010-01-08   337.79\n",
       "...             ...\n",
       "2020-12-24  2909.35\n",
       "2020-12-28  2929.40\n",
       "2020-12-29  2930.50\n",
       "2020-12-30  2909.30\n",
       "2020-12-31  2862.75\n",
       "\n",
       "[2729 rows x 1 columns]"
      ]
     },
     "execution_count": 5,
     "metadata": {},
     "output_type": "execute_result"
    }
   ],
   "source": [
    "df2 = df1.sort_values(by=['Date'])\n",
    "df2"
   ]
  },
  {
   "cell_type": "code",
   "execution_count": 6,
   "metadata": {},
   "outputs": [
    {
     "name": "stdout",
     "output_type": "stream",
     "text": [
      "<class 'pandas.core.frame.DataFrame'>\n",
      "DatetimeIndex: 2729 entries, 2010-01-04 to 2020-12-31\n",
      "Data columns (total 1 columns):\n",
      " #   Column  Non-Null Count  Dtype  \n",
      "---  ------  --------------  -----  \n",
      " 0   Close   2729 non-null   float64\n",
      "dtypes: float64(1)\n",
      "memory usage: 42.6 KB\n"
     ]
    }
   ],
   "source": [
    "df2.info()"
   ]
  },
  {
   "cell_type": "code",
   "execution_count": 7,
   "metadata": {},
   "outputs": [
    {
     "data": {
      "text/html": [
       "<div>\n",
       "<style scoped>\n",
       "    .dataframe tbody tr th:only-of-type {\n",
       "        vertical-align: middle;\n",
       "    }\n",
       "\n",
       "    .dataframe tbody tr th {\n",
       "        vertical-align: top;\n",
       "    }\n",
       "\n",
       "    .dataframe thead th {\n",
       "        text-align: right;\n",
       "    }\n",
       "</style>\n",
       "<table border=\"1\" class=\"dataframe\">\n",
       "  <thead>\n",
       "    <tr style=\"text-align: right;\">\n",
       "      <th></th>\n",
       "      <th>Close</th>\n",
       "    </tr>\n",
       "  </thead>\n",
       "  <tbody>\n",
       "    <tr>\n",
       "      <th>count</th>\n",
       "      <td>2729.000000</td>\n",
       "    </tr>\n",
       "    <tr>\n",
       "      <th>mean</th>\n",
       "      <td>1202.190407</td>\n",
       "    </tr>\n",
       "    <tr>\n",
       "      <th>std</th>\n",
       "      <td>601.485052</td>\n",
       "    </tr>\n",
       "    <tr>\n",
       "      <th>min</th>\n",
       "      <td>337.670000</td>\n",
       "    </tr>\n",
       "    <tr>\n",
       "      <th>25%</th>\n",
       "      <td>617.620000</td>\n",
       "    </tr>\n",
       "    <tr>\n",
       "      <th>50%</th>\n",
       "      <td>1185.510000</td>\n",
       "    </tr>\n",
       "    <tr>\n",
       "      <th>75%</th>\n",
       "      <td>1522.570000</td>\n",
       "    </tr>\n",
       "    <tr>\n",
       "      <th>max</th>\n",
       "      <td>2930.500000</td>\n",
       "    </tr>\n",
       "  </tbody>\n",
       "</table>\n",
       "</div>"
      ],
      "text/plain": [
       "             Close\n",
       "count  2729.000000\n",
       "mean   1202.190407\n",
       "std     601.485052\n",
       "min     337.670000\n",
       "25%     617.620000\n",
       "50%    1185.510000\n",
       "75%    1522.570000\n",
       "max    2930.500000"
      ]
     },
     "execution_count": 7,
     "metadata": {},
     "output_type": "execute_result"
    }
   ],
   "source": [
    "df2.describe()"
   ]
  },
  {
   "cell_type": "code",
   "execution_count": 8,
   "metadata": {},
   "outputs": [
    {
     "data": {
      "text/plain": [
       "Close    2930.5\n",
       "dtype: float64"
      ]
     },
     "execution_count": 8,
     "metadata": {},
     "output_type": "execute_result"
    }
   ],
   "source": [
    "df2.max()"
   ]
  },
  {
   "cell_type": "code",
   "execution_count": 9,
   "metadata": {},
   "outputs": [
    {
     "data": {
      "text/plain": [
       "Close    337.67\n",
       "dtype: float64"
      ]
     },
     "execution_count": 9,
     "metadata": {},
     "output_type": "execute_result"
    }
   ],
   "source": [
    "df2.min()"
   ]
  },
  {
   "cell_type": "markdown",
   "metadata": {},
   "source": [
    "#### Visualization of Historical stock values of TCS."
   ]
  },
  {
   "cell_type": "code",
   "execution_count": 32,
   "metadata": {},
   "outputs": [
    {
     "data": {
      "image/png": "[encoded data removed]",
      "text/plain": [
       "<Figure size 720x720 with 1 Axes>"
      ]
     },
     "metadata": {
      "needs_background": "light"
     },
     "output_type": "display_data"
    }
   ],
   "source": [
    "\n",
    "plt.figure(figsize=(10,10))\n",
    "plt.plot(df2.index, df2['Close'], color = 'red')\n",
    "plt.title('Historical Stock Values of TCS', size = 20)\n",
    "plt.xlabel('Year', size = 15)\n",
    "plt.ylabel('Stock Price in (₹)', size = 15)\n",
    "plt.show()"
   ]
  },
  {
   "cell_type": "markdown",
   "metadata": {},
   "source": [
    "#### Here, we required keras and tensorflow module. Install it in your enviroment and also import it."
   ]
  },
  {
   "cell_type": "code",
   "execution_count": 11,
   "metadata": {},
   "outputs": [],
   "source": [
    "# pip install keras"
   ]
  },
  {
   "cell_type": "code",
   "execution_count": 12,
   "metadata": {},
   "outputs": [],
   "source": [
    "# pip install tensorflow"
   ]
  },
  {
   "cell_type": "code",
   "execution_count": 13,
   "metadata": {},
   "outputs": [],
   "source": [
    "from sklearn.preprocessing import MinMaxScaler\n",
    "from keras.models import Sequential\n",
    "from keras.layers import Dense, LSTM\n",
    "import math"
   ]
  },
  {
   "cell_type": "markdown",
   "metadata": {},
   "source": [
    "#### Create a new data frame with only 'Close column'."
   ]
  },
  {
   "cell_type": "code",
   "execution_count": 14,
   "metadata": {},
   "outputs": [
    {
     "data": {
      "text/plain": [
       "2481"
      ]
     },
     "execution_count": 14,
     "metadata": {},
     "output_type": "execute_result"
    }
   ],
   "source": [
    "data = df2.filter(['Close'])\n",
    "\n",
    "dataset = data.values #convert the data frame to a numpy array\n",
    "\n",
    "training_data_len = math.ceil(len(dataset)*.9090)  # number of rows to train the model on\n",
    "\n",
    "training_data_len"
   ]
  },
  {
   "cell_type": "markdown",
   "metadata": {},
   "source": [
    "#### Normalization\n",
    "Whenever you use a neural network, you should normalize or scale your data. We will use MinMaxScaler class from the sklearn preprocessing library to scale our data between 0 and 1. The feature_range parameter is used to specify the range of the scaled data."
   ]
  },
  {
   "cell_type": "markdown",
   "metadata": {},
   "source": [
    "#### scale the data."
   ]
  },
  {
   "cell_type": "code",
   "execution_count": 15,
   "metadata": {},
   "outputs": [
    {
     "data": {
      "text/plain": [
       "array([[0.00969983],\n",
       "       [0.00973839],\n",
       "       [0.00657197],\n",
       "       ...,\n",
       "       [1.        ],\n",
       "       [0.99182361],\n",
       "       [0.97387025]])"
      ]
     },
     "execution_count": 15,
     "metadata": {},
     "output_type": "execute_result"
    }
   ],
   "source": [
    "scaler = MinMaxScaler(feature_range=(0,1))\n",
    "scaled_data = scaler.fit_transform(dataset)\n",
    "scaled_data"
   ]
  },
  {
   "cell_type": "markdown",
   "metadata": {},
   "source": [
    "#### Create the training dataset."
   ]
  },
  {
   "cell_type": "code",
   "execution_count": 16,
   "metadata": {},
   "outputs": [],
   "source": [
    "train_data = scaled_data[0:training_data_len, :]"
   ]
  },
  {
   "cell_type": "markdown",
   "metadata": {},
   "source": [
    "##### Split the data into x_train, y_train datasets.\n",
    "\n",
    "we want our feature set to contain the close stock prices for the previous 60 days (Days can be varied, In this condition, I got timestep = 60. But we can change it). We need the stock prices for the previous 60 days."
   ]
  },
  {
   "cell_type": "code",
   "execution_count": 17,
   "metadata": {},
   "outputs": [
    {
     "name": "stdout",
     "output_type": "stream",
     "text": [
      "[array([9.69982606e-03, 9.73839396e-03, 6.57196962e-03, 2.76531820e-03,\n",
      "       4.62814762e-05, 2.73060710e-03, 9.40285325e-03, 1.65687685e-02,\n",
      "       1.49489168e-02, 1.71010055e-02, 1.91103929e-02, 1.51070452e-02,\n",
      "       1.48679242e-02, 1.32365022e-02, 1.08530062e-02, 1.05483198e-02,\n",
      "       8.14553982e-03, 7.85628059e-03, 6.82266095e-03, 8.67777679e-03,\n",
      "       7.23533745e-03, 9.94280381e-03, 7.28933251e-03, 4.45844888e-03,\n",
      "       5.61548578e-03, 4.58186615e-03, 6.62982147e-03, 6.09758449e-03,\n",
      "       8.03369291e-03, 8.67777679e-03, 1.09108580e-02, 1.10034210e-02,\n",
      "       1.10304185e-02, 9.49541621e-03, 1.07450161e-02, 1.16475048e-02,\n",
      "       1.22530208e-02, 1.24188628e-02, 1.15896530e-02, 1.18519147e-02,\n",
      "       1.28855343e-02, 1.19830456e-02, 1.17400678e-02, 1.17593518e-02,\n",
      "       1.28739640e-02, 1.49874847e-02, 1.71395734e-02, 1.81346251e-02,\n",
      "       2.20531234e-02, 2.41010787e-02, 2.62801649e-02, 2.35148467e-02,\n",
      "       2.25930740e-02, 2.38388170e-02, 2.40355133e-02, 2.42514935e-02,\n",
      "       2.33644319e-02, 2.09269408e-02, 1.87015732e-02, 1.50993316e-02])]\n",
      "[0.020155582895909102]\n",
      "\n"
     ]
    }
   ],
   "source": [
    "x_train = []\n",
    "y_train = []\n",
    "for i in range(60,len(train_data)):\n",
    "    x_train.append(train_data[i-60:i, 0])\n",
    "    y_train.append(train_data[i,0])\n",
    "    if i<=60:\n",
    "        print(x_train)\n",
    "        print(y_train)\n",
    "        print()"
   ]
  },
  {
   "cell_type": "markdown",
   "metadata": {},
   "source": [
    "#### Convert the x_train and y_train  to numppy array."
   ]
  },
  {
   "cell_type": "code",
   "execution_count": 18,
   "metadata": {},
   "outputs": [],
   "source": [
    "x_train,y_train = np.array(x_train), np.array(y_train)\n"
   ]
  },
  {
   "cell_type": "markdown",
   "metadata": {},
   "source": [
    "#### Reshape the data."
   ]
  },
  {
   "cell_type": "code",
   "execution_count": 19,
   "metadata": {},
   "outputs": [
    {
     "data": {
      "text/plain": [
       "(2421, 60, 1)"
      ]
     },
     "execution_count": 19,
     "metadata": {},
     "output_type": "execute_result"
    }
   ],
   "source": [
    "x_train = np.reshape(x_train,(x_train.shape[0],x_train.shape[1],1))\n",
    "x_train.shape"
   ]
  },
  {
   "cell_type": "code",
   "execution_count": 20,
   "metadata": {},
   "outputs": [],
   "source": [
    "model =Sequential()\n",
    "model.add(LSTM(64,return_sequences=True, input_shape=(x_train.shape[1],1)))\n",
    "model.add(LSTM(64, return_sequences= False))\n",
    "model.add(Dense(32))\n",
    "model.add(Dense(1))"
   ]
  },
  {
   "cell_type": "markdown",
   "metadata": {},
   "source": [
    "#### Complie the model."
   ]
  },
  {
   "cell_type": "code",
   "execution_count": 21,
   "metadata": {},
   "outputs": [],
   "source": [
    "model.compile(optimizer='adam', loss='mean_squared_error')"
   ]
  },
  {
   "cell_type": "markdown",
   "metadata": {},
   "source": [
    "#### Train the model."
   ]
  },
  {
   "cell_type": "code",
   "execution_count": 22,
   "metadata": {},
   "outputs": [
    {
     "name": "stdout",
     "output_type": "stream",
     "text": [
      "Epoch 1/10\n",
      "2421/2421 [==============================] - 103s 40ms/step - loss: 0.0035\n",
      "Epoch 2/10\n",
      "2421/2421 [==============================] - 95s 39ms/step - loss: 4.3696e-04\n",
      "Epoch 3/10\n",
      "2421/2421 [==============================] - 102s 42ms/step - loss: 2.1729e-04\n",
      "Epoch 4/10\n",
      "2421/2421 [==============================] - 103s 43ms/step - loss: 2.2721e-04\n",
      "Epoch 5/10\n",
      "2421/2421 [==============================] - 105s 43ms/step - loss: 1.9431e-04\n",
      "Epoch 6/10\n",
      "2421/2421 [==============================] - 105s 43ms/step - loss: 1.5346e-04\n",
      "Epoch 7/10\n",
      "2421/2421 [==============================] - 112s 46ms/step - loss: 1.6114e-04\n",
      "Epoch 8/10\n",
      "2421/2421 [==============================] - 105s 43ms/step - loss: 1.7101e-04\n",
      "Epoch 9/10\n",
      "2421/2421 [==============================] - 108s 45ms/step - loss: 1.4485e-04\n",
      "Epoch 10/10\n",
      "2421/2421 [==============================] - 104s 43ms/step - loss: 1.3130e-04\n"
     ]
    },
    {
     "data": {
      "text/plain": [
       "<tensorflow.python.keras.callbacks.History at 0x1a1a1844d00>"
      ]
     },
     "execution_count": 22,
     "metadata": {},
     "output_type": "execute_result"
    }
   ],
   "source": [
    "model.fit(x_train,y_train, batch_size=1, epochs=10)"
   ]
  },
  {
   "cell_type": "markdown",
   "metadata": {},
   "source": [
    "#### Create the testing data sets. \n",
    "#### Create a new array containing scale values."
   ]
  },
  {
   "cell_type": "code",
   "execution_count": 23,
   "metadata": {},
   "outputs": [],
   "source": [
    "test_data= scaled_data[training_data_len-60:, :]"
   ]
  },
  {
   "cell_type": "markdown",
   "metadata": {},
   "source": [
    "#### Create the data sets x_test and y_test."
   ]
  },
  {
   "cell_type": "code",
   "execution_count": 24,
   "metadata": {},
   "outputs": [],
   "source": [
    "x_test = []\n",
    "y_test = dataset[training_data_len:,:]\n",
    "\n",
    "for i in range(60,len(test_data)):\n",
    "    x_test.append(test_data[i-60:i,0])"
   ]
  },
  {
   "cell_type": "markdown",
   "metadata": {},
   "source": [
    "#### Convert the data to a numpy array."
   ]
  },
  {
   "cell_type": "code",
   "execution_count": 25,
   "metadata": {},
   "outputs": [],
   "source": [
    "x_test = np.array(x_test)"
   ]
  },
  {
   "cell_type": "markdown",
   "metadata": {},
   "source": [
    "#### Reshape the data."
   ]
  },
  {
   "cell_type": "code",
   "execution_count": 26,
   "metadata": {},
   "outputs": [
    {
     "data": {
      "text/plain": [
       "(248, 60, 1)"
      ]
     },
     "execution_count": 26,
     "metadata": {},
     "output_type": "execute_result"
    }
   ],
   "source": [
    "x_test = np.reshape(x_test, (x_test.shape[0], x_test.shape[1],1))\n",
    "\n",
    "x_test.shape"
   ]
  },
  {
   "cell_type": "markdown",
   "metadata": {},
   "source": [
    "#### Predicting the data."
   ]
  },
  {
   "cell_type": "code",
   "execution_count": 27,
   "metadata": {},
   "outputs": [],
   "source": [
    "predictions = model.predict(x_test)\n",
    "\n",
    "predictions = scaler.inverse_transform(predictions)"
   ]
  },
  {
   "cell_type": "markdown",
   "metadata": {},
   "source": [
    "#### Get the root mean square error(RMSE)."
   ]
  },
  {
   "cell_type": "code",
   "execution_count": 28,
   "metadata": {},
   "outputs": [
    {
     "data": {
      "text/plain": [
       "8.917483815839224"
      ]
     },
     "execution_count": 28,
     "metadata": {},
     "output_type": "execute_result"
    }
   ],
   "source": [
    "rmse = np.sqrt(np.mean(predictions - y_test)**2)\n",
    "\n",
    "rmse"
   ]
  },
  {
   "cell_type": "markdown",
   "metadata": {},
   "source": [
    "#### Plot the data."
   ]
  },
  {
   "cell_type": "code",
   "execution_count": 29,
   "metadata": {},
   "outputs": [
    {
     "name": "stderr",
     "output_type": "stream",
     "text": [
      "<ipython-input-29-a15855cda8bc>:5: SettingWithCopyWarning: \n",
      "A value is trying to be set on a copy of a slice from a DataFrame.\n",
      "Try using .loc[row_indexer,col_indexer] = value instead\n",
      "\n",
      "See the caveats in the documentation: https://pandas.pydata.org/pandas-docs/stable/user_guide/indexing.html#returning-a-view-versus-a-copy\n",
      "  valid['Predictions'] = predictions\n"
     ]
    },
    {
     "data": {
      "image/png": "[encoded data removed]",
      "text/plain": [
       "<Figure size 1152x576 with 1 Axes>"
      ]
     },
     "metadata": {
      "needs_background": "light"
     },
     "output_type": "display_data"
    }
   ],
   "source": [
    "train = data[:training_data_len]\n",
    "\n",
    "valid = data[training_data_len:]\n",
    "\n",
    "valid['Predictions'] = predictions\n",
    "\n",
    "#Visialization the data\n",
    "plt.figure(figsize=(16,8))\n",
    "\n",
    "plt.title('Model')\n",
    "plt.xlabel('Date', fontsize=18)\n",
    "plt.ylabel('Close Price' ,fontsize=18)\n",
    "\n",
    "plt.plot(train['Close'],linewidth=3.5)\n",
    "plt.plot(valid[['Close','Predictions']],linewidth=3.5)\n",
    "\n",
    "plt.legend(['Train','Valid','Predictions'], loc='upper center');\n",
    "plt.show();"
   ]
  },
  {
   "cell_type": "markdown",
   "metadata": {},
   "source": [
    "#### Show the valid and predicted price."
   ]
  },
  {
   "cell_type": "code",
   "execution_count": 30,
   "metadata": {},
   "outputs": [
    {
     "data": {
      "text/html": [
       "<div>\n",
       "<style scoped>\n",
       "    .dataframe tbody tr th:only-of-type {\n",
       "        vertical-align: middle;\n",
       "    }\n",
       "\n",
       "    .dataframe tbody tr th {\n",
       "        vertical-align: top;\n",
       "    }\n",
       "\n",
       "    .dataframe thead th {\n",
       "        text-align: right;\n",
       "    }\n",
       "</style>\n",
       "<table border=\"1\" class=\"dataframe\">\n",
       "  <thead>\n",
       "    <tr style=\"text-align: right;\">\n",
       "      <th></th>\n",
       "      <th>Close</th>\n",
       "      <th>Predictions</th>\n",
       "    </tr>\n",
       "    <tr>\n",
       "      <th>Date</th>\n",
       "      <th></th>\n",
       "      <th></th>\n",
       "    </tr>\n",
       "  </thead>\n",
       "  <tbody>\n",
       "    <tr>\n",
       "      <th>2020-01-06</th>\n",
       "      <td>2200.45</td>\n",
       "      <td>2201.048096</td>\n",
       "    </tr>\n",
       "    <tr>\n",
       "      <th>2020-01-07</th>\n",
       "      <td>2205.85</td>\n",
       "      <td>2197.739502</td>\n",
       "    </tr>\n",
       "    <tr>\n",
       "      <th>2020-01-08</th>\n",
       "      <td>2255.25</td>\n",
       "      <td>2206.260010</td>\n",
       "    </tr>\n",
       "    <tr>\n",
       "      <th>2020-01-09</th>\n",
       "      <td>2214.35</td>\n",
       "      <td>2255.825684</td>\n",
       "    </tr>\n",
       "    <tr>\n",
       "      <th>2020-01-10</th>\n",
       "      <td>2213.55</td>\n",
       "      <td>2212.225098</td>\n",
       "    </tr>\n",
       "    <tr>\n",
       "      <th>...</th>\n",
       "      <td>...</td>\n",
       "      <td>...</td>\n",
       "    </tr>\n",
       "    <tr>\n",
       "      <th>2020-12-24</th>\n",
       "      <td>2909.35</td>\n",
       "      <td>2855.777832</td>\n",
       "    </tr>\n",
       "    <tr>\n",
       "      <th>2020-12-28</th>\n",
       "      <td>2929.40</td>\n",
       "      <td>2854.612305</td>\n",
       "    </tr>\n",
       "    <tr>\n",
       "      <th>2020-12-29</th>\n",
       "      <td>2930.50</td>\n",
       "      <td>2875.878906</td>\n",
       "    </tr>\n",
       "    <tr>\n",
       "      <th>2020-12-30</th>\n",
       "      <td>2909.30</td>\n",
       "      <td>2874.497559</td>\n",
       "    </tr>\n",
       "    <tr>\n",
       "      <th>2020-12-31</th>\n",
       "      <td>2862.75</td>\n",
       "      <td>2855.004883</td>\n",
       "    </tr>\n",
       "  </tbody>\n",
       "</table>\n",
       "<p>248 rows × 2 columns</p>\n",
       "</div>"
      ],
      "text/plain": [
       "              Close  Predictions\n",
       "Date                            \n",
       "2020-01-06  2200.45  2201.048096\n",
       "2020-01-07  2205.85  2197.739502\n",
       "2020-01-08  2255.25  2206.260010\n",
       "2020-01-09  2214.35  2255.825684\n",
       "2020-01-10  2213.55  2212.225098\n",
       "...             ...          ...\n",
       "2020-12-24  2909.35  2855.777832\n",
       "2020-12-28  2929.40  2854.612305\n",
       "2020-12-29  2930.50  2875.878906\n",
       "2020-12-30  2909.30  2874.497559\n",
       "2020-12-31  2862.75  2855.004883\n",
       "\n",
       "[248 rows x 2 columns]"
      ]
     },
     "execution_count": 30,
     "metadata": {},
     "output_type": "execute_result"
    }
   ],
   "source": [
    "valid"
   ]
  },
  {
   "cell_type": "markdown",
   "metadata": {},
   "source": [
    "#### Plot of the predicted stock price with actual stock price (Close)."
   ]
  },
  {
   "cell_type": "code",
   "execution_count": 34,
   "metadata": {},
   "outputs": [
    {
     "data": {
      "image/png": "[encoded data removed]",
      "text/plain": [
       "<Figure size 792x792 with 1 Axes>"
      ]
     },
     "metadata": {
      "needs_background": "light"
     },
     "output_type": "display_data"
    }
   ],
   "source": [
    "fig, ax = plt.subplots(figsize = (11,11))\n",
    "\n",
    "ax.plot(valid['Close'], color = 'blueviolet', marker='.', linewidth='0.75')\n",
    "\n",
    "ax.plot(valid['Predictions'], color = 'springgreen', marker='.', linewidth='0.75')\n",
    "\n",
    "plt.title( 'Close Vs. Predictions', size = 18)\n",
    "plt.xlabel('Year 2020', size =15)\n",
    "plt.ylabel('Stock Prices in (₹)', size = 15)\n",
    "\n",
    "plt.legend(['Close', 'Predictions'], loc = 'upper center')\n",
    "\n",
    "plt.show()"
   ]
  },
  {
   "cell_type": "markdown",
   "metadata": {},
   "source": [
    "#### Submitted By: Lavish Isasare"
   ]
  },
  {
   "cell_type": "code",
   "execution_count": null,
   "metadata": {},
   "outputs": [],
   "source": []
  }
 ],
 "metadata": {
  "kernelspec": {
   "display_name": "Python 3",
   "language": "python",
   "name": "python3"
  },
  "language_info": {
   "codemirror_mode": {
    "name": "ipython",
    "version": 3
   },
   "file_extension": ".py",
   "mimetype": "text/x-python",
   "name": "python",
   "nbconvert_exporter": "python",
   "pygments_lexer": "ipython3",
   "version": "3.8.5"
  }
 },
 "nbformat": 4,
 "nbformat_minor": 4
}
